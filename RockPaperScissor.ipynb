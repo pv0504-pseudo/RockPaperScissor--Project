{
  "nbformat": 4,
  "nbformat_minor": 0,
  "metadata": {
    "colab": {
      "provenance": []
    },
    "kernelspec": {
      "name": "python3",
      "display_name": "Python 3"
    },
    "language_info": {
      "name": "python"
    }
  },
  "cells": [
    {
      "cell_type": "code",
      "execution_count": 2,
      "metadata": {
        "colab": {
          "base_uri": "https://localhost:8080/"
        },
        "id": "LpNC8fgGHmfO",
        "outputId": "e32d3a13-8809-406c-a30d-1b49bbd34d45"
      },
      "outputs": [
        {
          "name": "stdout",
          "output_type": "stream",
          "text": [
            "Welcome to Rock-Paper-Scissors\n",
            "Player1: ROCK, PAPER, OR SCISSORS? Paper\n",
            "Player2: ROCK, PAPER, OR SCISSORS? Rock\n",
            "Congratulations! Player One has won! \n",
            "Play Again? YES OR NO? Yes\n",
            "Welcome to Rock-Paper-Scissors\n",
            "Player1: ROCK, PAPER, OR SCISSORS? Rock\n",
            "Player2: ROCK, PAPER, OR SCISSORS? Scissors\n",
            "Congratulations! Player One has won! \n",
            "Play Again? YES OR NO? No\n"
          ]
        }
      ],
      "source": [
        "playAgain = 'yes'\n",
        "\n",
        "while(playAgain.lower() == 'yes'):\n",
        "  print(\"Welcome to Rock-Paper-Scissors\")\n",
        "  PlayerOneInput = input(\"Player1: ROCK, PAPER, OR SCISSORS? \")\n",
        "  PlayerTwoInput = input(\"Player2: ROCK, PAPER, OR SCISSORS? \")\n",
        "  if(PlayerOneInput == PlayerTwoInput):\n",
        "    print(\"The game is Tied\")\n",
        "    playAgain = input(\"Play Again? YES OR NO? \")\n",
        "\n",
        "  elif((PlayerOneInput.lower() == \"rock\" and PlayerTwoInput.lower() == \"scissors\") or\n",
        "       (PlayerOneInput.lower() == \"scissors\" and PlayerTwoInput.lower() == \"paper\") or\n",
        "       (PlayerOneInput.lower() == \"paper\" and PlayerTwoInput.lower() == \"rock\")):\n",
        "       print(\"Congratulations! Player One has won! \")\n",
        "       playAgain = input(\"Play Again? YES OR NO? \")\n",
        "  elif((PlayerTwoInput.lower() == \"rock\" and PlayerOneInput.lower() == \"scissors\") or\n",
        "       (PlayerTwoInput.lower() == \"scissors\" and PlayerOneInput.lower() == \"paper\") or\n",
        "       (PlayerTwoInput.lower() == \"paper\" and PlayerOneInput.lower() == \"rock\")):\n",
        "       print(\"Congratulations! Player Two has won! \")\n",
        "       playAgain = input(\"Play Again? YES OR NO? \")\n",
        "\n",
        "  else:\n",
        "    print(\"ERROR\")\n",
        "    playAgain = input(\"play Again? YES OR NO? \")"
      ]
    }
  ]
}